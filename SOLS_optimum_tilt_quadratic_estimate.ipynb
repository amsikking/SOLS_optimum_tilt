{
 "cells": [
  {
   "cell_type": "markdown",
   "metadata": {},
   "source": [
    "# SOLS optimum* tilt - quadratic estimate"
   ]
  },
  {
   "cell_type": "markdown",
   "metadata": {},
   "source": [
    "In a single-objective light-sheet (SOLS) style microscope the light-sheet consumes some of the numerical aperture $(NA)$ from the primary objective. i.e. more $NA$ for the light-sheet gives better sectioning but less $NA$ for collection. The trade of light-sheet vs emission $NA$ is governed by the tilt of the 3rd microscope $(\\theta_{tilt})$. Historically some builders have used $\\theta_{tilt} =30$ degrees. So the question is... what is the optimal tilt?\n",
    "\n",
    "Here's a simple analytical estimate for a tilt that gives a light-sheet thickness roughly equal to the axial point spread function."
   ]
  },
  {
   "cell_type": "markdown",
   "metadata": {},
   "source": [
    "## Primary objective emission:"
   ]
  },
  {
   "cell_type": "markdown",
   "metadata": {},
   "source": [
    "The numerical aperture of the primary objective $(NA_1)$ and the axial extent of the point spread function $(Z_{PSF_1})$ can be expressed as,"
   ]
  },
  {
   "cell_type": "markdown",
   "metadata": {},
   "source": [
    "$$NA_1 = n_1 \\sin\\theta_1$$\n",
    "\n",
    "$$Z_{PSF_1} \\approx \\frac{2 n_1 \\lambda_{em} }{NA_1^2}$$"
   ]
  },
  {
   "cell_type": "markdown",
   "metadata": {},
   "source": [
    "where $n_1$ is the index of refraction, $\\theta_1$ is the half angle collection of the primary objective and $\\lambda_{em}$ is the emission wavelength."
   ]
  },
  {
   "cell_type": "markdown",
   "metadata": {},
   "source": [
    "## Light-sheet excitation:"
   ]
  },
  {
   "cell_type": "markdown",
   "metadata": {},
   "source": [
    "The numerical aperture of a Gaussian light-sheet excitation $(NA_{ex})$ and beam waist $(\\omega_0)$ can be written as,"
   ]
  },
  {
   "cell_type": "markdown",
   "metadata": {},
   "source": [
    "$$NA_{ex} = n_1 \\sin\\theta_{ex}$$\n",
    "\n",
    "$$\\omega_0 = \\frac{\\lambda_{ex}}{\\pi NA_{ex}}$$"
   ]
  },
  {
   "cell_type": "markdown",
   "metadata": {},
   "source": [
    "where $\\theta_{ex}$ is the half angle of the light-sheet and $\\lambda_{ex}$ is the excitation wavelength."
   ]
  },
  {
   "cell_type": "markdown",
   "metadata": {},
   "source": [
    "## Single-objective light-sheet constraints:"
   ]
  },
  {
   "cell_type": "markdown",
   "metadata": {},
   "source": [
    "The lower bound on effective numerical aperture $(NA_{eff})$ is set by:"
   ]
  },
  {
   "cell_type": "markdown",
   "metadata": {},
   "source": [
    "$$NA_{eff} = n_1 \\sin\\theta_{eff}$$"
   ]
  },
  {
   "cell_type": "markdown",
   "metadata": {},
   "source": [
    "for:"
   ]
  },
  {
   "cell_type": "markdown",
   "metadata": {},
   "source": [
    "$$2\\theta_{eff} = 2 \\theta_1 - \\theta_{ex}$$"
   ]
  },
  {
   "cell_type": "markdown",
   "metadata": {},
   "source": [
    "and"
   ]
  },
  {
   "cell_type": "markdown",
   "metadata": {},
   "source": [
    "$$\\theta_{tilt} = \\frac{\\pi}{2} - \\theta_1 + \\theta_{ex}$$"
   ]
  },
  {
   "cell_type": "markdown",
   "metadata": {},
   "source": [
    "## *Optimum tilt selection:"
   ]
  },
  {
   "cell_type": "markdown",
   "metadata": {},
   "source": [
    "Tilt may be optimized in different ways:\n",
    "- Minimal tilt gives maximum emission collection, but with a thick light-sheet, poorer sectioning and increased photodose.\n",
    "- Increasing tilt gives thinner light-sheet options, better sectioning and lower photodose possibilities, but at the expense of emission light.\n",
    "- Tuning the tilt between minimum and maximum can allow the light-sheet propagation length to be adapted to the sample size. This may be the best way to operate but is practically challenging.\n",
    "\n",
    "As a starting point we can consider setting the tilt so that the thickness of the light sheet $(2\\omega_0)$ is approximately equal to the extent of the effective axial point spread function of the primary objective $(Z_{PSF_{eff}})$:"
   ]
  },
  {
   "cell_type": "markdown",
   "metadata": {},
   "source": [
    "$$2 \\omega_0 \\approx Z_{PSF_{eff}}$$"
   ]
  },
  {
   "cell_type": "markdown",
   "metadata": {},
   "source": [
    "or:"
   ]
  },
  {
   "cell_type": "markdown",
   "metadata": {},
   "source": [
    "$$\\frac{\\lambda_{ex}}{\\pi NA_{ex}} \\approx \\frac{n_1 \\lambda_{em} }{NA_{eff}^2} $$"
   ]
  },
  {
   "cell_type": "markdown",
   "metadata": {},
   "source": [
    "## Solve for $\\theta_{tilt}$:"
   ]
  },
  {
   "cell_type": "markdown",
   "metadata": {},
   "source": [
    "Substitute equations for $NA$ and rearrange,"
   ]
  },
  {
   "cell_type": "markdown",
   "metadata": {},
   "source": [
    "$$\\frac{\\lambda_{ex}}{\\pi \\lambda_{em}} \\sin^2\\theta_{eff} \\approx  \\sin\\theta_{ex} $$"
   ]
  },
  {
   "cell_type": "markdown",
   "metadata": {},
   "source": [
    "eliminate $\\theta_{ex}$ using $\\theta_{ex} = 2(\\theta_1-\\theta_{eff})$,"
   ]
  },
  {
   "cell_type": "markdown",
   "metadata": {},
   "source": [
    "$$\\approx \\sin2(\\theta_1 - \\theta_{eff})$$"
   ]
  },
  {
   "cell_type": "markdown",
   "metadata": {},
   "source": [
    "extract factor of 2 using trig identity $(\\sin2 A = 2\\sin A \\cos A)$,"
   ]
  },
  {
   "cell_type": "markdown",
   "metadata": {},
   "source": [
    "$$\\approx 2 \\sin(\\theta_1 - \\theta_{eff})\\cos(\\theta_{1} - \\theta_{eff})$$"
   ]
  },
  {
   "cell_type": "markdown",
   "metadata": {},
   "source": [
    "extract single angles using trig identities $(\\sin(A - B)=\\sin A \\cos B -\\cos A \\sin B$, $\\cos(A - B) = \\cos A \\cos B + \\sin A \\sin B)$,"
   ]
  },
  {
   "cell_type": "markdown",
   "metadata": {},
   "source": [
    "$$\\approx 2\n",
    "(\\sin\\theta_1\\cos\\theta_{eff} - \\cos\\theta_1\\sin\\theta_{eff})\n",
    "(\\cos\\theta_1\\cos\\theta_{eff} + \\sin\\theta_1\\sin\\theta_{eff})$$"
   ]
  },
  {
   "cell_type": "markdown",
   "metadata": {},
   "source": [
    "multiply out,"
   ]
  },
  {
   "cell_type": "markdown",
   "metadata": {},
   "source": [
    "$$\\approx\n",
    "2\\sin\\theta_1\\cos\\theta_1\\cos^2\\theta_{eff} + \n",
    "2\\sin\\theta_{eff}\\cos\\theta_{eff}\\sin^2\\theta_1$$$$ - \n",
    "2\\sin\\theta_{eff}\\cos\\theta_{eff}\\cos^2\\theta_1 -\n",
    "2\\sin\\theta_1\\cos\\theta_1\\sin^2\\theta_{eff}$$"
   ]
  },
  {
   "cell_type": "markdown",
   "metadata": {},
   "source": [
    "divide by $\\cos^2\\theta_{eff}$ and substitute $\\frac{\\sin\\alpha}{\\cos\\alpha}=\\tan\\alpha$ (a valid operation for any real lens where $\\theta_{eff}<\\frac{\\pi}{2}$),"
   ]
  },
  {
   "cell_type": "markdown",
   "metadata": {},
   "source": [
    "$$\\frac{ \\lambda_{ex}}{\\pi \\lambda_{em}} \\tan^2\\theta_{eff} \\approx\n",
    "2\\sin\\theta_1\\cos\\theta_1\\ + \n",
    "2(\\sin^2\\theta_1 - \\cos^2\\theta_1)\\tan\\theta_{eff} -\n",
    "2\\sin\\theta_1\\cos\\theta_1\\tan^2\\theta_{eff}$$"
   ]
  },
  {
   "cell_type": "markdown",
   "metadata": {},
   "source": [
    "re-arrange for the standard quadratic form $ax^2 + bx + c = 0$ and reduce ($\\cos^2 A = 1 - \\sin^2 A$, $ 2 \\sin A \\cos A = \\sin 2A)$:"
   ]
  },
  {
   "cell_type": "markdown",
   "metadata": {},
   "source": [
    "$$(\\frac{ \\lambda_{ex}}{\\pi \\lambda_{em}} + \\sin 2 \\theta_1) \\tan^2\\theta_{eff} + 2(1 - 2\\sin^2\\theta_1)\\tan\\theta_{eff} - \\sin 2 \\theta_1 \\approx 0 $$"
   ]
  },
  {
   "cell_type": "markdown",
   "metadata": {},
   "source": [
    "find the positive root with the quadratic formula:"
   ]
  },
  {
   "cell_type": "markdown",
   "metadata": {},
   "source": [
    "$$\\tan \\theta_{eff} = {\\frac{-b + \\sqrt{b^2 - 4ac}}{2a}}$$"
   ]
  },
  {
   "cell_type": "markdown",
   "metadata": {},
   "source": [
    "return the tilt angle with:"
   ]
  },
  {
   "cell_type": "markdown",
   "metadata": {},
   "source": [
    "$$\\theta_{tilt} = \\frac{\\pi}{2} + \\theta_1 - 2\\theta_{eff}$$"
   ]
  },
  {
   "cell_type": "markdown",
   "metadata": {},
   "source": [
    "## SOLS reference design, worked example:"
   ]
  },
  {
   "cell_type": "markdown",
   "metadata": {},
   "source": [
    "The primary objective for the single-objective light-sheet reference design is a 1.35 Silicone oil objective:"
   ]
  },
  {
   "cell_type": "code",
   "execution_count": 3,
   "metadata": {},
   "outputs": [
    {
     "name": "stdout",
     "output_type": "stream",
     "text": [
      "Optimum tilt =  30.35 deg\n"
     ]
    }
   ],
   "source": [
    "import numpy as np\n",
    "\n",
    "NA1 = 1.35 # Nikon 100x1.35 Sil\n",
    "n1 = 1.4 # Silicone refractive index\n",
    "lambda_ex = 488 # typical laser\n",
    "lambda_em = 510 # GFP like\n",
    "\n",
    "theta1 = np.arcsin(NA1/n1)\n",
    "\n",
    "a = lambda_ex/(np.pi * lambda_em) + np.sin(2 * theta1)\n",
    "b = 2 * (1 - 2 * (np.sin(theta1) ** 2))\n",
    "c = - np.sin(2 * theta1)\n",
    "\n",
    "tan_theta_eff = (- b + (b**2 - 4 * a * c)**0.5)/ (2 * a)\n",
    "theta_eff = np.arctan(tan_theta_eff)\n",
    "theta_tilt = np.pi/2 + theta1 - 2 * theta_eff\n",
    "\n",
    "print(\"Optimum tilt = \", round(np.rad2deg(theta_tilt), 2), \"deg\")"
   ]
  },
  {
   "cell_type": "code",
   "execution_count": null,
   "metadata": {},
   "outputs": [],
   "source": []
  }
 ],
 "metadata": {
  "kernelspec": {
   "display_name": "Python 3",
   "language": "python",
   "name": "python3"
  },
  "language_info": {
   "codemirror_mode": {
    "name": "ipython",
    "version": 3
   },
   "file_extension": ".py",
   "mimetype": "text/x-python",
   "name": "python",
   "nbconvert_exporter": "python",
   "pygments_lexer": "ipython3",
   "version": "3.8.3"
  }
 },
 "nbformat": 4,
 "nbformat_minor": 4
}
