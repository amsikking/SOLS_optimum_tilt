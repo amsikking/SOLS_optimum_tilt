{
 "cells": [
  {
   "cell_type": "markdown",
   "metadata": {},
   "source": [
    "# SOLS optimum* tilt - quadratic estimate"
   ]
  },
  {
   "cell_type": "markdown",
   "metadata": {},
   "source": [
    "In a SOLS microsope the light-sheet consumes some of the numerical aperture from the primary objective $(NA_1)$. The trade of light-sheet $NA_{ex}$ vs emmission $NA_{eff}$ is governed by the tilt of the 3rd microscope $(\\theta_{tilt})$. Some builders have used $\\theta_{tilt}=30$ degrees. So the question is... what is the optimal* tilt?\n",
    "\n",
    "Here's a simple analytical estimate for matching the light-sheet thickness to the axial PSF:"
   ]
  },
  {
   "cell_type": "markdown",
   "metadata": {},
   "source": [
    "$$2\\omega_0 \\approx Z_{PSF_{eff}} \\quad\\ and \\quad \\theta_{ex} = 2(\\theta_1-\\theta_{eff})\n",
    "$$"
   ]
  },
  {
   "cell_type": "markdown",
   "metadata": {},
   "source": [
    "$$\\frac{\\lambda_{ex}}{\\pi NA_{ex}} \\approx \\frac{\\lambda_{em} }{NA_{eff}^2}  \\quad\\Rightarrow\\quad \\frac{n_1 \\lambda_{ex}}{\\pi \\lambda_{em}} \\sin^2\\theta_{eff} \\approx  \\sin2(\\theta_1-\\theta_{eff})$$"
   ]
  },
  {
   "cell_type": "markdown",
   "metadata": {},
   "source": [
    "$$(\\frac{n_1 \\lambda_{ex}}{\\pi \\lambda_{em}} + \\sin 2 \\theta_1) \\tan^2\\theta_{eff} + 2(1 - 2\\sin^2\\theta_1)\\tan\\theta_{eff} - \\sin 2 \\theta_1 \\approx 0 $$"
   ]
  },
  {
   "cell_type": "markdown",
   "metadata": {},
   "source": [
    "$$\\quad\\Rightarrow\\quad \\tan \\theta_{eff} = {\\frac{-b + \\sqrt{b^2 - 4ac}}{2a}} \\quad and \\quad \\theta_{tilt} = \\frac{\\pi}{2} + \\theta_1 - 2\\theta_{eff}$$"
   ]
  },
  {
   "cell_type": "markdown",
   "metadata": {},
   "source": [
    " (*depends on what you're trying to optimize!)"
   ]
  },
  {
   "cell_type": "markdown",
   "metadata": {},
   "source": [
    "## Worked example:"
   ]
  },
  {
   "cell_type": "code",
   "execution_count": 1,
   "metadata": {},
   "outputs": [
    {
     "name": "stdout",
     "output_type": "stream",
     "text": [
      "Optimum tilt =  35.68 deg\n"
     ]
    }
   ],
   "source": [
    "import numpy as np\n",
    "\n",
    "NA1 = 1.35 # Nikon 100x1.35 Sil\n",
    "n1 = 1.4 # Silicone refractive index\n",
    "lambda_ex = 488 # typical laser\n",
    "lambda_em = 510 # GFP like\n",
    "\n",
    "theta1 = np.arcsin(NA1/n1)\n",
    "a = (lambda_ex * n1)/(np.pi * lambda_em) + np.sin(2 * theta1)\n",
    "b = 2 * (1 - 2 * (np.sin(theta1) ** 2))\n",
    "c = - np.sin(2 * theta1)\n",
    "\n",
    "tan_theta_eff = (- b + (b**2 - 4 * a * c)**0.5)/ (2 * a)\n",
    "theta_eff = np.arctan(tan_theta_eff)\n",
    "theta_tilt = np.pi/2 + theta1 - 2 * theta_eff\n",
    "\n",
    "print(\"Optimum tilt = \", round(np.rad2deg(theta_tilt), 2), \"deg\")"
   ]
  }
 ],
 "metadata": {
  "kernelspec": {
   "display_name": "Python 3",
   "language": "python",
   "name": "python3"
  },
  "language_info": {
   "codemirror_mode": {
    "name": "ipython",
    "version": 3
   },
   "file_extension": ".py",
   "mimetype": "text/x-python",
   "name": "python",
   "nbconvert_exporter": "python",
   "pygments_lexer": "ipython3",
   "version": "3.8.3"
  }
 },
 "nbformat": 4,
 "nbformat_minor": 4
}
